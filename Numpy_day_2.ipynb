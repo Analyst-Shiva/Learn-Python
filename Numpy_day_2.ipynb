{
 "cells": [
  {
   "cell_type": "markdown",
   "metadata": {
    "id": "KRH0lpS88abX"
   },
   "source": [
    "### NumPy Exercises\n",
    "##### Now that we've learned about NumPy let's test your knowledge. We'll start off with a few simple tasks and then you'll be asked some more complicated questions.\n",
    "##### IMPORTANT NOTE! Make sure you don't run the cells directly above the example output shown, otherwise you will end up writing over the example output!"
   ]
  },
  {
   "cell_type": "markdown",
   "metadata": {
    "id": "9KzpS47XBTWm"
   },
   "source": [
    "##### import numpy as np\n"
   ]
  },
  {
   "cell_type": "markdown",
   "metadata": {
    "id": "V6ntuSvDBZ2G"
   },
   "source": [
    "###### 1. Write a NumPy program to find the missing data in a given array."
   ]
  },
  {
   "cell_type": "code",
   "execution_count": 1,
   "metadata": {
    "id": "Z94k4mpaBClu"
   },
   "outputs": [],
   "source": [
    "import numpy as np\n",
    "\n",
    "original_array = np.array([[3., 2., np.nan, 1.],\n",
    "                           [10., 12., 10., 9.],\n",
    "                           [5., np.nan, 1., np.nan]])"
   ]
  },
  {
   "cell_type": "code",
   "execution_count": 2,
   "metadata": {},
   "outputs": [],
   "source": [
    "missing_data = np.isnan(original_array)"
   ]
  },
  {
   "cell_type": "code",
   "execution_count": 3,
   "metadata": {},
   "outputs": [
    {
     "name": "stdout",
     "output_type": "stream",
     "text": [
      "\n",
      " Missing data of the said array:\n",
      "[[False False  True False]\n",
      " [False False False False]\n",
      " [False  True False  True]]\n"
     ]
    }
   ],
   "source": [
    "# Print missing data\n",
    "print(\"\\n Missing data of the said array:\")\n",
    "print(missing_data)"
   ]
  },
  {
   "cell_type": "markdown",
   "metadata": {
    "id": "jT038BYtB0la"
   },
   "source": [
    "##### 2. Write a NumPy program to check whether two arrays are equal (element wise) or not."
   ]
  },
  {
   "cell_type": "code",
   "execution_count": 4,
   "metadata": {
    "id": "0aJczGNjBfL1"
   },
   "outputs": [
    {
     "name": "stdout",
     "output_type": "stream",
     "text": [
      "\n",
      "Are array1 and array2 equal?\n",
      "True\n",
      "Are array1 and array3 equal?\n",
      "False\n"
     ]
    }
   ],
   "source": [
    "array1 = np.array([[1, 2, 3], [4, 5, 6]])\n",
    "array2 = np.array([[1, 2, 3], [4, 5, 6]])\n",
    "array3 = np.array([[1, 2, 3], [4, 5, 7]])\n",
    "\n",
    "# Check if array1 and array2 are equal\n",
    "result_equal_1_2 = np.array_equal(array1, array2)\n",
    "\n",
    "# Check if array1 and array3 are equal\n",
    "result_equal_1_3 = np.array_equal(array1, array3)\n",
    "\n",
    "# Print results\n",
    "print(\"\\nAre array1 and array2 equal?\")\n",
    "print(result_equal_1_2)\n",
    "\n",
    "print(\"Are array1 and array3 equal?\")\n",
    "print(result_equal_1_3)"
   ]
  },
  {
   "cell_type": "markdown",
   "metadata": {
    "id": "XhX1H1M_CI7S"
   },
   "source": [
    "###### 3. Write a NumPy program to create a 4x4 array with random values, now create a new array from the said array swapping first and last rows."
   ]
  },
  {
   "cell_type": "code",
   "execution_count": 5,
   "metadata": {
    "id": "3HazIhbtBfOq"
   },
   "outputs": [
    {
     "name": "stdout",
     "output_type": "stream",
     "text": [
      "\n",
      "New array after swapping first and last rows of the said array:\n",
      "[[14  4  9 11]\n",
      " [ 4  9 13 15]\n",
      " [12 14  7  9]\n",
      " [13 15 12  3]]\n"
     ]
    }
   ],
   "source": [
    "# Create a 4x4 array with random values\n",
    "original_array = np.random.randint(0, 16, (4, 4))\n",
    "\n",
    "# Create a new array by swapping the first and last rows\n",
    "new_array = original_array.copy()\n",
    "new_array[[0, -1], :] = new_array[[-1, 0], :]\n",
    "\n",
    "# Print the new array\n",
    "print(\"\\nNew array after swapping first and last rows of the said array:\")\n",
    "print(new_array)"
   ]
  },
  {
   "cell_type": "markdown",
   "metadata": {
    "id": "BYgy22u_kqsB"
   },
   "source": [
    "###### 4. Write a NumPy program to convert a list and tuple into arrays."
   ]
  },
  {
   "cell_type": "code",
   "execution_count": 6,
   "metadata": {
    "id": "Hgmgw7J2BfUQ"
   },
   "outputs": [
    {
     "name": "stdout",
     "output_type": "stream",
     "text": [
      "Original list:\n",
      "[1, 2, 3, 4, 5]\n",
      "\n",
      "Original tuple:\n",
      "(6, 7, 8, 9, 10)\n",
      "\n",
      "Array from list:\n",
      "[1 2 3 4 5]\n",
      "\n",
      "Array from tuple:\n",
      "[ 6  7  8  9 10]\n"
     ]
    }
   ],
   "source": [
    "# Convert a list to an array\n",
    "list_data = [1, 2, 3, 4, 5]\n",
    "array_from_list = np.array(list_data)\n",
    "\n",
    "# Convert a tuple to an array\n",
    "tuple_data = (6, 7, 8, 9, 10)\n",
    "array_from_tuple = np.array(tuple_data)\n",
    "\n",
    "# Print the original list and tuple\n",
    "print(\"Original list:\")\n",
    "print(list_data)\n",
    "\n",
    "print(\"\\nOriginal tuple:\")\n",
    "print(tuple_data)\n",
    "\n",
    "# Print the arrays\n",
    "print(\"\\nArray from list:\")\n",
    "print(array_from_list)\n",
    "\n",
    "print(\"\\nArray from tuple:\")\n",
    "print(array_from_tuple)"
   ]
  },
  {
   "cell_type": "markdown",
   "metadata": {
    "id": "jzp2hg44k5O0"
   },
   "source": [
    "###### 5. Write a NumPy program to find common values between two arrays."
   ]
  },
  {
   "cell_type": "code",
   "execution_count": 7,
   "metadata": {
    "id": "1QMJVl3LBfWm"
   },
   "outputs": [
    {
     "name": "stdout",
     "output_type": "stream",
     "text": [
      "Array 1: [1 2 3 4 5]\n",
      "Array 2: [3 4 5 6 7]\n",
      "\n",
      "Common values between Array 1 and Array 2:\n",
      "[3 4 5]\n"
     ]
    }
   ],
   "source": [
    "# Sample arrays\n",
    "array1 = np.array([1, 2, 3, 4, 5])\n",
    "array2 = np.array([3, 4, 5, 6, 7])\n",
    "\n",
    "# Find common values between array1 and array2\n",
    "common_values = np.intersect1d(array1, array2)\n",
    "\n",
    "# Print the original arrays\n",
    "print(\"Array 1:\", array1)\n",
    "print(\"Array 2:\", array2)\n",
    "\n",
    "# Print common values\n",
    "print(\"\\nCommon values between Array 1 and Array 2:\")\n",
    "print(common_values)"
   ]
  },
  {
   "cell_type": "markdown",
   "metadata": {
    "id": "Llt6X9k66TMD"
   },
   "source": [
    "###### 6. Write a NumPy program to create a new shape to an array without changing its data."
   ]
  },
  {
   "cell_type": "code",
   "execution_count": 8,
   "metadata": {
    "id": "rNh8SssUBfZQ"
   },
   "outputs": [
    {
     "name": "stdout",
     "output_type": "stream",
     "text": [
      "\n",
      "Reshape 3x2:\n",
      "[[1 2]\n",
      " [3 4]\n",
      " [5 6]]\n",
      "\n",
      "Reshape 2x3:\n",
      "[[1 2 3]\n",
      " [4 5 6]]\n"
     ]
    }
   ],
   "source": [
    "# Original array\n",
    "original_array = np.array([[1, 2, 3],\n",
    "                           [4, 5, 6]])\n",
    "\n",
    "# Reshape the array to 3x2\n",
    "reshaped_array_3x2 = np.reshape(original_array, (3, 2))\n",
    "\n",
    "# Reshape the array to 2x3\n",
    "reshaped_array_2x3 = np.reshape(original_array, (2, 3))\n",
    "\n",
    "# Print the reshaped arrays\n",
    "print(\"\\nReshape 3x2:\")\n",
    "print(reshaped_array_3x2)\n",
    "\n",
    "print(\"\\nReshape 2x3:\")\n",
    "print(reshaped_array_2x3)"
   ]
  },
  {
   "cell_type": "markdown",
   "metadata": {
    "id": "nf03MRSR7JFB"
   },
   "source": [
    "###### 7. Write a NumPy program to count the frequency of unique values in numpy array."
   ]
  },
  {
   "cell_type": "code",
   "execution_count": 9,
   "metadata": {
    "id": "NqJxDKOs6dZN"
   },
   "outputs": [
    {
     "name": "stdout",
     "output_type": "stream",
     "text": [
      "\n",
      "Frequency of unique values of the said array:\n",
      "[[10 20 30 40 50]\n",
      " [ 3  4  2  2  1]]\n"
     ]
    }
   ],
   "source": [
    "# Original array\n",
    "original_array = np.array([10, 10, 20, 10, 20, 20, 20, 30, 30, 50, 40, 40])\n",
    "\n",
    "# Find unique values and their counts\n",
    "unique_values, counts = np.unique(original_array, return_counts=True)\n",
    "\n",
    "# Create a frequency array\n",
    "frequency_array = np.array([unique_values, counts])\n",
    "\n",
    "# Print the frequency of unique values\n",
    "print(\"\\nFrequency of unique values of the said array:\")\n",
    "print(frequency_array)"
   ]
  },
  {
   "cell_type": "markdown",
   "metadata": {
    "id": "a5wvDisr9SGS"
   },
   "source": [
    "###### 8. Write a NumPy program to broadcast on different shapes of arrays where p(3,3) + q(3)."
   ]
  },
  {
   "cell_type": "code",
   "execution_count": 10,
   "metadata": {
    "id": "B3hjEaCw6dfJ"
   },
   "outputs": [
    {
     "name": "stdout",
     "output_type": "stream",
     "text": [
      "\n",
      "New Array:\n",
      "[[10 11 12]\n",
      " [11 13 15]\n",
      " [14 16 18]]\n"
     ]
    }
   ],
   "source": [
    "# Original arrays\n",
    "array1 = np.array([[0, 0, 0], [1, 2, 3], [4, 5, 6]])\n",
    "array2 = np.array([10, 11, 12])\n",
    "\n",
    "# Perform broadcasting to add the arrays\n",
    "result_array = array1 + array2\n",
    "\n",
    "# Print the new array after broadcasting\n",
    "print(\"\\nNew Array:\")\n",
    "print(result_array)"
   ]
  },
  {
   "cell_type": "markdown",
   "metadata": {
    "id": "W9mCoSxU92BL"
   },
   "source": [
    "###### 9. Write a NumPy program to extract all the elements of the second row from a given (4x4) array."
   ]
  },
  {
   "cell_type": "code",
   "execution_count": 11,
   "metadata": {
    "colab": {
     "base_uri": "https://localhost:8080/"
    },
    "id": "ybbGis1E91S8",
    "outputId": "42123911-acc4-47c0-ccd1-be25b3b76737"
   },
   "outputs": [
    {
     "name": "stdout",
     "output_type": "stream",
     "text": [
      "\n",
      "Extracted data: Second row\n",
      "[4 5 6 7]\n"
     ]
    }
   ],
   "source": [
    "import numpy as np\n",
    "arra_data = np.arange(0,16).reshape((4, 4))\n",
    "\n",
    "print(\"\\nExtracted data: Second row\")\n",
    "print(arra_data[1,:])"
   ]
  },
  {
   "cell_type": "markdown",
   "metadata": {
    "id": "t76Rc47gATll"
   },
   "source": [
    "###### 10. Write a NumPy program to extract third and fourth elements of the first and second rows from a given (4x4) array."
   ]
  },
  {
   "cell_type": "code",
   "execution_count": 12,
   "metadata": {
    "id": "tLyK4ieP91V_"
   },
   "outputs": [
    {
     "name": "stdout",
     "output_type": "stream",
     "text": [
      "\n",
      "Extracted data: Third and fourth elements of the first and second rows\n",
      "[[2 3]\n",
      " [6 7]]\n"
     ]
    }
   ],
   "source": [
    "# Original array\n",
    "original_array = np.array([[0, 1, 2, 3],\n",
    "                           [4, 5, 6, 7],\n",
    "                           [8, 9, 10, 11],\n",
    "                           [12, 13, 14, 15]])\n",
    "\n",
    "# Extract third and fourth elements of the first and second rows\n",
    "extracted_data = original_array[:2, 2:4]\n",
    "\n",
    "# Print the extracted data\n",
    "print(\"\\nExtracted data: Third and fourth elements of the first and second rows\")\n",
    "print(extracted_data)"
   ]
  },
  {
   "cell_type": "markdown",
   "metadata": {
    "id": "mES8f4RDFxtM"
   },
   "source": [
    "###### 11. Write a NumPy program to get the dates of yesterday, today and tomorrow."
   ]
  },
  {
   "cell_type": "code",
   "execution_count": 13,
   "metadata": {
    "id": "fyBw7Uo-Aoad"
   },
   "outputs": [
    {
     "name": "stdout",
     "output_type": "stream",
     "text": [
      "Yesterday: 2024-01-28\n",
      "Today: 2024-01-29\n",
      "Tomorrow: 2024-01-30\n"
     ]
    }
   ],
   "source": [
    "import datetime\n",
    "\n",
    "# Get today's date\n",
    "today = np.datetime64('today', 'D')\n",
    "\n",
    "# Get yesterday's date\n",
    "yesterday = today - np.timedelta64(1, 'D')\n",
    "\n",
    "# Get tomorrow's date\n",
    "tomorrow = today + np.timedelta64(1, 'D')\n",
    "\n",
    "# Convert to standard datetime objects for better readability\n",
    "today_dt = np.datetime_as_string(today, unit='D')\n",
    "yesterday_dt = np.datetime_as_string(yesterday, unit='D')\n",
    "tomorrow_dt = np.datetime_as_string(tomorrow, unit='D')\n",
    "\n",
    "# Print the results\n",
    "print(\"Yesterday:\", yesterday_dt)\n",
    "print(\"Today:\", today_dt)\n",
    "print(\"Tomorrow:\", tomorrow_dt)"
   ]
  },
  {
   "cell_type": "markdown",
   "metadata": {
    "id": "-y3xiL7_GZ3D"
   },
   "source": [
    "###### 12. Write a NumPy program to find the first Monday in May 2017."
   ]
  },
  {
   "cell_type": "code",
   "execution_count": 14,
   "metadata": {
    "id": "roe76-pSGNX4"
   },
   "outputs": [
    {
     "name": "stdout",
     "output_type": "stream",
     "text": [
      "First Monday in May 2017:\n",
      "2017-05-04\n"
     ]
    }
   ],
   "source": [
    "# Define the target month and year\n",
    "target_month = 5  # May\n",
    "target_year = 2017\n",
    "\n",
    "# Create the starting date for the target month\n",
    "start_date = np.datetime64(f'{target_year}-{target_month:02d}-01')\n",
    "\n",
    "# Calculate the day of the week for the first day of the month (0 is Monday)\n",
    "day_of_week = np.datetime64(start_date, 'D').view('int64') % 7\n",
    "\n",
    "# Calculate the number of days to the first Monday\n",
    "days_to_monday = (7 - day_of_week) % 7\n",
    "\n",
    "# Calculate the first Monday in the target month\n",
    "first_monday = start_date + np.timedelta64(days_to_monday, 'D')\n",
    "\n",
    "# Print the result\n",
    "print(\"First Monday in May 2017:\")\n",
    "print(first_monday)"
   ]
  }
 ],
 "metadata": {
  "colab": {
   "collapsed_sections": [],
   "name": "Numpy_assignment_day_2.ipynb",
   "provenance": []
  },
  "kernelspec": {
   "display_name": "Python 3 (ipykernel)",
   "language": "python",
   "name": "python3"
  },
  "language_info": {
   "codemirror_mode": {
    "name": "ipython",
    "version": 3
   },
   "file_extension": ".py",
   "mimetype": "text/x-python",
   "name": "python",
   "nbconvert_exporter": "python",
   "pygments_lexer": "ipython3",
   "version": "3.11.5"
  }
 },
 "nbformat": 4,
 "nbformat_minor": 1
}
