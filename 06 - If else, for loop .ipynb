{
 "cells": [
  {
   "cell_type": "markdown",
   "metadata": {},
   "source": [
    "# IF , ELSE.... FOR LOOP"
   ]
  },
  {
   "cell_type": "markdown",
   "metadata": {},
   "source": [
    "> print this is hour in current minute is odd"
   ]
  },
  {
   "cell_type": "code",
   "execution_count": 1,
   "metadata": {},
   "outputs": [
    {
     "name": "stdout",
     "output_type": "stream",
     "text": [
      "This is hour in the current minute, and it is odd.\n"
     ]
    }
   ],
   "source": [
    "import datetime\n",
    "current_time = datetime.datetime.now()\n",
    "current_minute = current_time.minute\n",
    "if current_minute % 2 == 1:\n",
    "    print(\"This is hour in the current minute, and it is odd.\")\n",
    "else:\n",
    "    print(\"This is hour in the current minute, and it is even.\")"
   ]
  },
  {
   "cell_type": "markdown",
   "metadata": {},
   "source": [
    "> if today is satarday then print 'Party !!!' or if sunday print take rest other wise print work , work, work"
   ]
  },
  {
   "cell_type": "code",
   "execution_count": 2,
   "metadata": {},
   "outputs": [
    {
     "name": "stdout",
     "output_type": "stream",
     "text": [
      "Work, work, work\n"
     ]
    }
   ],
   "source": [
    "import datetime\n",
    "current_day = datetime.datetime.today().weekday()\n",
    "if current_day == 5:\n",
    "    print(\"Party !!!\")\n",
    "elif current_day == 6:\n",
    "    print(\"Take rest\")\n",
    "else:\n",
    "    print(\"Work, work, work\")"
   ]
  },
  {
   "cell_type": "markdown",
   "metadata": {},
   "source": [
    "> Write a program which will find all such numbers which are divisible by 7 but are not a multiple of 5, between 2000 and 3200 (both included). The numbers obtained should be printed in a comma-separated sequence on a single line."
   ]
  },
  {
   "cell_type": "code",
   "execution_count": 3,
   "metadata": {},
   "outputs": [
    {
     "name": "stdout",
     "output_type": "stream",
     "text": [
      "2002,2009,2016,2023,2037,2044,2051,2058,2072,2079,2086,2093,2107,2114,2121,2128,2142,2149,2156,2163,2177,2184,2191,2198,2212,2219,2226,2233,2247,2254,2261,2268,2282,2289,2296,2303,2317,2324,2331,2338,2352,2359,2366,2373,2387,2394,2401,2408,2422,2429,2436,2443,2457,2464,2471,2478,2492,2499,2506,2513,2527,2534,2541,2548,2562,2569,2576,2583,2597,2604,2611,2618,2632,2639,2646,2653,2667,2674,2681,2688,2702,2709,2716,2723,2737,2744,2751,2758,2772,2779,2786,2793,2807,2814,2821,2828,2842,2849,2856,2863,2877,2884,2891,2898,2912,2919,2926,2933,2947,2954,2961,2968,2982,2989,2996,3003,3017,3024,3031,3038,3052,3059,3066,3073,3087,3094,3101,3108,3122,3129,3136,3143,3157,3164,3171,3178,3192,3199\n"
     ]
    }
   ],
   "source": [
    "result = []\n",
    "for number in range(2000, 3201):\n",
    "    if number % 7 == 0 and number % 5 != 0:\n",
    "        result.append(str(number))\n",
    "print(','.join(result))"
   ]
  },
  {
   "cell_type": "markdown",
   "metadata": {},
   "source": [
    "> Write a program which can compute the factorial of a given numbers.\n",
    "The results should be printed in a comma-separated sequence on a single line.\n",
    "Suppose the following input is supplied to the program:\n",
    "8\n",
    "Then, the output should be:\n",
    "40320"
   ]
  },
  {
   "cell_type": "code",
   "execution_count": 4,
   "metadata": {},
   "outputs": [
    {
     "name": "stdout",
     "output_type": "stream",
     "text": [
      "Enter the value to compute the factorial: 8\n",
      "40320\n"
     ]
    }
   ],
   "source": [
    "def factorial(n):\n",
    "    if n == 0 or n == 1:\n",
    "        return 1\n",
    "    else:\n",
    "        return n * factorial(n - 1)\n",
    "number = int(input(\"Enter the value to compute the factorial: \"))\n",
    "result = factorial(number)\n",
    "print(result)"
   ]
  },
  {
   "cell_type": "markdown",
   "metadata": {},
   "source": [
    "> With a given integral number n, write a program to generate a dictionary that contains (i, i*i) such that is an integral number between 1 and n (both included). and then the program should print the dictionary.\n",
    "Suppose the following input is supplied to the program:\n",
    "8\n",
    "Then, the output should be:\n",
    "{1: 1, 2: 4, 3: 9, 4: 16, 5: 25, 6: 36, 7: 49, 8: 64}\n",
    "\n",
    "*Hint* : use dict()"
   ]
  },
  {
   "cell_type": "code",
   "execution_count": 5,
   "metadata": {},
   "outputs": [
    {
     "name": "stdout",
     "output_type": "stream",
     "text": [
      "Enter a number: 12\n",
      "{1: 1, 2: 4, 3: 9, 4: 16, 5: 25, 6: 36, 7: 49, 8: 64, 9: 81, 10: 100, 11: 121, 12: 144}\n"
     ]
    }
   ],
   "source": [
    "n = int(input(\"Enter a number: \"))\n",
    "result_dict = {i: i*i for i in range(1, n+1)}\n",
    "print(result_dict)"
   ]
  },
  {
   "cell_type": "markdown",
   "metadata": {},
   "source": [
    "> create user defined fuction for \n",
    "- addition \"add\"\n",
    "- subtraction \"sub\"\n",
    "- multiplication \"mul\"\n",
    "- division \"div\"\n",
    "- power \"pow\""
   ]
  },
  {
   "cell_type": "code",
   "execution_count": 6,
   "metadata": {},
   "outputs": [
    {
     "name": "stdout",
     "output_type": "stream",
     "text": [
      "Enter the first number: 8\n",
      "Enter the second number: 6\n",
      "Enter the operation (add/sub/mul/div/pow): pow\n",
      "Result: 262144.0\n"
     ]
    }
   ],
   "source": [
    "def add(x, y):\n",
    "    return x + y\n",
    "def sub(x, y):\n",
    "    return x - y\n",
    "def mul(x, y):\n",
    "    return x * y\n",
    "def div(x, y):\n",
    "    if y != 0:\n",
    "        return x / y\n",
    "    else:\n",
    "        return \"Cannot divide by zero\"\n",
    "def power(x, y):\n",
    "    return x ** y\n",
    "def perform_operation(number1, number2, operation):\n",
    "    if operation == \"add\":\n",
    "        return add(number1, number2)\n",
    "    elif operation == \"sub\":\n",
    "        return sub(number1, number2)\n",
    "    elif operation == \"mul\":\n",
    "        return mul(number1, number2)\n",
    "    elif operation == \"div\":\n",
    "        return div(number1, number2)\n",
    "    elif operation == \"pow\":\n",
    "        return power(number1, number2)\n",
    "    else:\n",
    "        return \"Invalid operation\"\n",
    "number1 = float(input(\"Enter the first number: \"))\n",
    "number2 = float(input(\"Enter the second number: \"))\n",
    "operation = input(\"Enter the operation (add/sub/mul/div/pow): \")\n",
    "result = perform_operation(number1, number2, operation)\n",
    "print(\"Result:\", result)"
   ]
  },
  {
   "cell_type": "markdown",
   "metadata": {},
   "source": [
    "### Write a Python program that accepts a string and calculate the number of digits and letters.\n",
    "- Input\n",
    "\n",
    "    - Hello321Bye360\n",
    "- Output\n",
    "\n",
    "    - Digit - 6\n",
    "\n",
    "    - Letter - 8"
   ]
  },
  {
   "cell_type": "code",
   "execution_count": 7,
   "metadata": {},
   "outputs": [
    {
     "name": "stdout",
     "output_type": "stream",
     "text": [
      "Enter a text: shiva155454\n",
      "Digit - 6\n",
      "Letter - 5\n"
     ]
    }
   ],
   "source": [
    "def count_digits_and_letters(input_text):\n",
    "    digit_count = 0\n",
    "    letter_count = 0\n",
    "    for char in input_text:\n",
    "        if char.isdigit():\n",
    "            digit_count += 1\n",
    "        elif char.isalpha():\n",
    "            letter_count += 1\n",
    "    print(\"Digit -\", digit_count)\n",
    "    print(\"Letter -\", letter_count)\n",
    "input_text = input(\"Enter a text: \")\n",
    "count_digits_and_letters(input_text)"
   ]
  },
  {
   "cell_type": "markdown",
   "metadata": {},
   "source": [
    "### With a given tuple (1,2,3,4,5,6,7,8,9,10), write a program to print the first half values in one line and the last half values in one line."
   ]
  },
  {
   "cell_type": "code",
   "execution_count": 8,
   "metadata": {},
   "outputs": [
    {
     "name": "stdout",
     "output_type": "stream",
     "text": [
      "1 2 3 4 5\n",
      "6 7 8 9 10\n"
     ]
    }
   ],
   "source": [
    "# METHOD - 1\n",
    "my_tuple = (1, 2, 3, 4, 5, 6, 7, 8, 9, 10)\n",
    "\n",
    "midpoint = len(my_tuple) // 2\n",
    "print(*my_tuple[:midpoint])\n",
    "print(*my_tuple[midpoint:])"
   ]
  },
  {
   "cell_type": "code",
   "execution_count": 9,
   "metadata": {},
   "outputs": [
    {
     "name": "stdout",
     "output_type": "stream",
     "text": [
      "(1, 2, 3, 4, 5) (6, 7, 8, 9, 10)\n"
     ]
    }
   ],
   "source": [
    "# METHOD - 2\n",
    "my_tuple = (1, 2, 3, 4, 5, 6, 7, 8, 9, 10)\n",
    "\n",
    "print(tuple(my_tuple[:midpoint]), tuple(my_tuple[midpoint:]))"
   ]
  },
  {
   "cell_type": "code",
   "execution_count": 10,
   "metadata": {},
   "outputs": [
    {
     "name": "stdout",
     "output_type": "stream",
     "text": [
      "[1, 2, 3, 4, 5]\n",
      "[6, 7, 8, 9, 10]\n"
     ]
    }
   ],
   "source": [
    "# METHOD - 3\n",
    "my_tuple = (1, 2, 3, 4, 5, 6, 7, 8, 9, 10)\n",
    "\n",
    "print(list(my_tuple[:midpoint]))\n",
    "print(list(my_tuple[midpoint:]))"
   ]
  },
  {
   "cell_type": "markdown",
   "metadata": {},
   "source": [
    "### Write a program to generate and print another tuple whose values are even numbers in the given tuple (1,2,3,4,5,6,7,8,9,10)"
   ]
  },
  {
   "cell_type": "code",
   "execution_count": 11,
   "metadata": {},
   "outputs": [
    {
     "name": "stdout",
     "output_type": "stream",
     "text": [
      "(2, 4, 6, 8, 10)\n"
     ]
    }
   ],
   "source": [
    "original_tuple = (1, 2, 3, 4, 5, 6, 7, 8, 9, 10)\n",
    "even_numbers_tuple = tuple(x for x in original_tuple if x % 2 == 0)\n",
    "print(even_numbers_tuple)"
   ]
  },
  {
   "cell_type": "markdown",
   "metadata": {},
   "source": [
    "### Write a program which accepts a string as input to print \"Yes\" if the string is \"yes\" or \"YES\" or \"Yes\", otherwise print \"No\""
   ]
  },
  {
   "cell_type": "code",
   "execution_count": 12,
   "metadata": {},
   "outputs": [
    {
     "name": "stdout",
     "output_type": "stream",
     "text": [
      "Please type something. --> yes\n",
      "Yes\n"
     ]
    }
   ],
   "source": [
    "text = input(\"Please type something. --> \")\n",
    "if text.lower() == \"yes\":\n",
    "    print(\"Yes\")\n",
    "else:\n",
    "    print(\"No\")"
   ]
  },
  {
   "cell_type": "markdown",
   "metadata": {},
   "source": [
    "### Please write a program to generate a list with 5 random numbers between 100 and 200 inclusive."
   ]
  },
  {
   "cell_type": "code",
   "execution_count": 13,
   "metadata": {},
   "outputs": [
    {
     "name": "stdout",
     "output_type": "stream",
     "text": [
      "[166, 145, 174, 196, 143]\n"
     ]
    }
   ],
   "source": [
    "import random\n",
    "random_numbers = [random.randint(100, 200) for _ in range(5)]\n",
    "print(random_numbers)"
   ]
  },
  {
   "cell_type": "markdown",
   "metadata": {},
   "source": [
    "### Please generate a random float where the value is between 5 and 95 using Python module."
   ]
  },
  {
   "cell_type": "code",
   "execution_count": 14,
   "metadata": {},
   "outputs": [
    {
     "name": "stdout",
     "output_type": "stream",
     "text": [
      "32.02157145906835\n"
     ]
    }
   ],
   "source": [
    "import random\n",
    "random_float = random.uniform(5, 95)\n",
    "print(random_float)"
   ]
  },
  {
   "cell_type": "markdown",
   "metadata": {},
   "source": [
    "### [1,1,1,1,3,3,4,4,4,5,6,7,8,8,8]\n",
    "#### 1. from the above list print the uniques values\n",
    "#### 2. count how many times each number exist\n",
    "#### 3. Print the number which is occured more number of times"
   ]
  },
  {
   "cell_type": "code",
   "execution_count": 15,
   "metadata": {},
   "outputs": [
    {
     "name": "stdout",
     "output_type": "stream",
     "text": [
      "Unique values: [1, 3, 4, 5, 6, 7, 8]\n"
     ]
    }
   ],
   "source": [
    "from collections import Counter\n",
    "original_list = [1, 1, 1, 1, 3, 3, 4, 4, 4, 5, 6, 7, 8, 8, 8]\n",
    "unique_values = list(set(original_list))\n",
    "print(\"Unique values:\", unique_values)"
   ]
  },
  {
   "cell_type": "code",
   "execution_count": 16,
   "metadata": {},
   "outputs": [
    {
     "name": "stdout",
     "output_type": "stream",
     "text": [
      "Count of each number: Counter({1: 4, 4: 3, 8: 3, 3: 2, 5: 1, 6: 1, 7: 1})\n"
     ]
    }
   ],
   "source": [
    "from collections import Counter\n",
    "original_list = [1, 1, 1, 1, 3, 3, 4, 4, 4, 5, 6, 7, 8, 8, 8]\n",
    "count_dict = Counter(original_list)\n",
    "print(\"Count of each number:\", count_dict)"
   ]
  },
  {
   "cell_type": "code",
   "execution_count": 17,
   "metadata": {},
   "outputs": [
    {
     "name": "stdout",
     "output_type": "stream",
     "text": [
      "Number that occurs the most: 1\n"
     ]
    }
   ],
   "source": [
    "from collections import Counter\n",
    "original_list = [1, 1, 1, 1, 3, 3, 4, 4, 4, 5, 6, 7, 8, 8, 8]\n",
    "most_common_number = count_dict.most_common(1)[0][0]\n",
    "print(\"Number that occurs the most:\", most_common_number)"
   ]
  }
 ],
 "metadata": {
  "kernelspec": {
   "display_name": "Python 3 (ipykernel)",
   "language": "python",
   "name": "python3"
  },
  "language_info": {
   "codemirror_mode": {
    "name": "ipython",
    "version": 3
   },
   "file_extension": ".py",
   "mimetype": "text/x-python",
   "name": "python",
   "nbconvert_exporter": "python",
   "pygments_lexer": "ipython3",
   "version": "3.11.5"
  }
 },
 "nbformat": 4,
 "nbformat_minor": 2
}
