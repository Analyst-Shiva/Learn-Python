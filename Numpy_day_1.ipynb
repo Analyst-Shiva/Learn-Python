{
 "cells": [
  {
   "cell_type": "markdown",
   "metadata": {
    "id": "F6px4MSR51Gu"
   },
   "source": [
    "### NumPy Exercises\n",
    "##### Now that we've learned about NumPy let's test your knowledge. We'll start off with a few simple tasks and then you'll be asked some more complicated questions.\n",
    "##### IMPORTANT NOTE! Make sure you don't run the cells directly above the example output shown, otherwise you will end up writing over the example output!"
   ]
  },
  {
   "cell_type": "code",
   "execution_count": 1,
   "metadata": {
    "id": "Qe-tLGBa2sNS"
   },
   "outputs": [],
   "source": [
    "import numpy as np"
   ]
  },
  {
   "cell_type": "markdown",
   "metadata": {
    "id": "TAAoEMyE6bj6"
   },
   "source": [
    "#####1.  Write a NumPy program to create an array of 10 zeros,10 ones, 10 fives."
   ]
  },
  {
   "cell_type": "code",
   "execution_count": 2,
   "metadata": {
    "id": "_BxASjIo6B1X"
   },
   "outputs": [
    {
     "name": "stdout",
     "output_type": "stream",
     "text": [
      "An array of 10 zeros:\n",
      "[0. 0. 0. 0. 0. 0. 0. 0. 0. 0.]\n",
      "\n",
      "An array of 10 ones:\n",
      "[1. 1. 1. 1. 1. 1. 1. 1. 1. 1.]\n",
      "\n",
      "An array of 10 fives:\n",
      "[5 5 5 5 5 5 5 5 5 5]\n"
     ]
    }
   ],
   "source": [
    "array_zeros = np.zeros(10)\n",
    "array_ones = np.ones(10)\n",
    "array_fives = np.full(10, 5)\n",
    "\n",
    "print(\"An array of 10 zeros:\")\n",
    "print(array_zeros)\n",
    "\n",
    "print(\"\\nAn array of 10 ones:\")\n",
    "print(array_ones)\n",
    "\n",
    "print(\"\\nAn array of 10 fives:\")\n",
    "print(array_fives)"
   ]
  },
  {
   "cell_type": "markdown",
   "metadata": {
    "id": "6gbrDc0_6ja8"
   },
   "source": [
    "#####2.  Write a NumPy program to create an array of the integers from 30 to 70."
   ]
  },
  {
   "cell_type": "code",
   "execution_count": 3,
   "metadata": {
    "id": "Rrdz7C556B4Y"
   },
   "outputs": [
    {
     "name": "stdout",
     "output_type": "stream",
     "text": [
      "Array of the integers from 30 to 70:\n",
      "[30 31 32 33 34 35 36 37 38 39 40 41 42 43 44 45 46 47 48 49 50 51 52 53\n",
      " 54 55 56 57 58 59 60 61 62 63 64 65 66 67 68 69 70]\n"
     ]
    }
   ],
   "source": [
    "integer_array = np.arange(30, 71)\n",
    "\n",
    "print(\"Array of the integers from 30 to 70:\")\n",
    "print(integer_array)"
   ]
  },
  {
   "cell_type": "markdown",
   "metadata": {
    "id": "-1Z-hSI66oXd"
   },
   "source": [
    "######3. Write a NumPy program to create an array of all the even integers from 10 to 50."
   ]
  },
  {
   "cell_type": "code",
   "execution_count": 4,
   "metadata": {
    "id": "-TwKGj2o6nBV"
   },
   "outputs": [
    {
     "name": "stdout",
     "output_type": "stream",
     "text": [
      "Array of all the even integers from 10 to 50:\n",
      "[10 12 14 16 18 20 22 24 26 28 30 32 34 36 38 40 42 44 46 48 50]\n"
     ]
    }
   ],
   "source": [
    "even_integer_array = np.arange(10, 51, 2)\n",
    "\n",
    "print(\"Array of all the even integers from 10 to 50:\")\n",
    "print(even_integer_array)"
   ]
  },
  {
   "cell_type": "markdown",
   "metadata": {
    "id": "av8golKd6z8l"
   },
   "source": [
    "######4. Write a NumPy program to create a 3x3 identity matrix."
   ]
  },
  {
   "cell_type": "code",
   "execution_count": 5,
   "metadata": {
    "id": "A4oaHF5L6nDB"
   },
   "outputs": [
    {
     "name": "stdout",
     "output_type": "stream",
     "text": [
      "3x3 matrix:\n",
      "[[1. 0. 0.]\n",
      " [0. 1. 0.]\n",
      " [0. 0. 1.]]\n"
     ]
    }
   ],
   "source": [
    "identity_matrix = np.identity(3)\n",
    "\n",
    "print(\"3x3 matrix:\")\n",
    "print(identity_matrix)"
   ]
  },
  {
   "cell_type": "markdown",
   "metadata": {
    "id": "bmfuxShM-nvi"
   },
   "source": [
    "##### 5. Write a NumPy program to generate a random number between 0 and 1"
   ]
  },
  {
   "cell_type": "code",
   "execution_count": 6,
   "metadata": {
    "id": "ufPWx-Bo6nFv"
   },
   "outputs": [
    {
     "name": "stdout",
     "output_type": "stream",
     "text": [
      "Random number between 0 and 1:\n",
      "0.5911696180075469\n"
     ]
    }
   ],
   "source": [
    "random_number = np.random.random()\n",
    "\n",
    "print(\"Random number between 0 and 1:\")\n",
    "print(random_number)"
   ]
  },
  {
   "cell_type": "markdown",
   "metadata": {
    "id": "hm-lJXi--3px"
   },
   "source": [
    "###### 6. Write a NumPy program to generate an array of 15 random numbers from a standard normal distribution."
   ]
  },
  {
   "cell_type": "code",
   "execution_count": 7,
   "metadata": {
    "id": "tFPEvuTr6nMg"
   },
   "outputs": [
    {
     "name": "stdout",
     "output_type": "stream",
     "text": [
      "15 random numbers from a standard normal distribution:\n",
      "[-0.67660889 -0.06792325  0.99635659  0.36408363 -0.69990578 -2.02870594\n",
      "  1.30124602  0.4939867   1.48590717 -0.24911054  1.11512077  1.43151651\n",
      "  2.97119639  0.93568722 -0.34133789]\n"
     ]
    }
   ],
   "source": [
    "random_numbers = np.random.randn(15)\n",
    "\n",
    "print(\"15 random numbers from a standard normal distribution:\")\n",
    "print(random_numbers)"
   ]
  },
  {
   "cell_type": "markdown",
   "metadata": {
    "id": "UIMv6m1t_G7q"
   },
   "source": [
    "###### 7. Write a NumPy program to create a 3X4 array using and iterate over it."
   ]
  },
  {
   "cell_type": "code",
   "execution_count": 8,
   "metadata": {
    "id": "WyYvr-ly-7y5"
   },
   "outputs": [
    {
     "name": "stdout",
     "output_type": "stream",
     "text": [
      "Original array:\n",
      "[[10 11 12 13]\n",
      " [14 15 16 17]\n",
      " [18 19 20 21]]\n",
      "Each element of the array is:\n",
      "10 11 12 13 14 15 16 17 18 19 20 21 \n"
     ]
    }
   ],
   "source": [
    "original_array = np.array([[10, 11, 12, 13],\n",
    "                           [14, 15, 16, 17],\n",
    "                           [18, 19, 20, 21]])\n",
    "print(\"Original array:\")\n",
    "print(original_array)\n",
    "\n",
    "print(\"Each element of the array is:\")\n",
    "for row in original_array:\n",
    "    for element in row:\n",
    "        print(element, end=\" \")\n",
    "print()"
   ]
  },
  {
   "cell_type": "markdown",
   "metadata": {
    "id": "pMshtaUT_fT0"
   },
   "source": [
    "###### 8. Write a NumPy program to multiply the values ​​of two given vectors."
   ]
  },
  {
   "cell_type": "code",
   "execution_count": 9,
   "metadata": {
    "id": "hD8Uk9J0_JxY"
   },
   "outputs": [
    {
     "name": "stdout",
     "output_type": "stream",
     "text": [
      "Vector-1\n",
      "[1 8 3 5]\n",
      "Vector-2\n",
      "[10  1  4 10]\n",
      "Multiply the values of two said vectors:\n",
      "[10  8 12 50]\n"
     ]
    }
   ],
   "source": [
    "vector_1 = np.array([1, 8, 3, 5])\n",
    "vector_2 = np.array([10, 1, 4, 10])\n",
    "\n",
    "result_vector = np.multiply(vector_1, vector_2)\n",
    "\n",
    "print(\"Vector-1\")\n",
    "print(vector_1)\n",
    "\n",
    "print(\"Vector-2\")\n",
    "print(vector_2)\n",
    "\n",
    "print(\"Multiply the values of two said vectors:\")\n",
    "print(result_vector)"
   ]
  },
  {
   "cell_type": "markdown",
   "metadata": {
    "id": "h7ny_Xci_07Q"
   },
   "source": [
    "###### 9. Write a NumPy program to reverse an array (first element becomes last)."
   ]
  },
  {
   "cell_type": "code",
   "execution_count": 10,
   "metadata": {
    "id": "CQZLCU4Z_J0M"
   },
   "outputs": [
    {
     "name": "stdout",
     "output_type": "stream",
     "text": [
      "Original array:\n",
      "[12 13 14 15 16 17 18 19 20 21 22 23 24 25 26 27 28 29 30 31 32 33 34 35\n",
      " 36 37]\n",
      "Reverse array:\n",
      "[37 36 35 34 33 32 31 30 29 28 27 26 25 24 23 22 21 20 19 18 17 16 15 14\n",
      " 13 12]\n"
     ]
    }
   ],
   "source": [
    "original_array = np.array([12, 13, 14, 15, 16, 17, 18, 19, 20, 21, 22, 23, 24, 25, 26, 27, 28, 29, 30, 31, 32, 33, 34, 35, 36, 37])\n",
    "\n",
    "print(\"Original array:\")\n",
    "print(original_array)\n",
    "\n",
    "reverse_array = np.flip(original_array)\n",
    "print(\"Reverse array:\")\n",
    "print(reverse_array)"
   ]
  },
  {
   "cell_type": "markdown",
   "metadata": {
    "id": "-y0LYMweAC3M"
   },
   "source": [
    "##### 10. Write a NumPy program to create a 5x5 zero matrix with elements on the main diagonal equal to 1, 2, 3, 4, 5."
   ]
  },
  {
   "cell_type": "code",
   "execution_count": 11,
   "metadata": {
    "id": "nJnstERf_J5T"
   },
   "outputs": [
    {
     "name": "stdout",
     "output_type": "stream",
     "text": [
      "[[1 0 0 0 0]\n",
      " [0 2 0 0 0]\n",
      " [0 0 3 0 0]\n",
      " [0 0 0 4 0]\n",
      " [0 0 0 0 5]]\n"
     ]
    }
   ],
   "source": [
    "zero_matrix = np.zeros((5, 5), dtype=int)\n",
    "\n",
    "np.fill_diagonal(zero_matrix, [1, 2, 3, 4, 5])\n",
    "\n",
    "print(zero_matrix)"
   ]
  },
  {
   "cell_type": "markdown",
   "metadata": {
    "id": "h7nmiqKNAYH1"
   },
   "source": [
    "###### 11. Write a NumPy program to compute sum of all elements, sum of each column and sum of each row of a given array."
   ]
  },
  {
   "cell_type": "code",
   "execution_count": 12,
   "metadata": {
    "id": "zWHfl9BS_J-a"
   },
   "outputs": [
    {
     "name": "stdout",
     "output_type": "stream",
     "text": [
      "Original array:\n",
      "[[0 1]\n",
      " [2 3]]\n",
      "Sum of all elements:\n",
      "6\n",
      "Sum of each column:\n",
      "[2 4]\n",
      "Sum of each row:\n",
      "[1 5]\n"
     ]
    }
   ],
   "source": [
    "original_array = np.array([[0, 1],\n",
    "                           [2, 3]])\n",
    "print(\"Original array:\")\n",
    "print(original_array)\n",
    "\n",
    "sum_all_elements = np.sum(original_array)\n",
    "\n",
    "sum_each_column = np.sum(original_array, axis=0)\n",
    "\n",
    "sum_each_row = np.sum(original_array, axis=1)\n",
    "\n",
    "print(\"Sum of all elements:\")\n",
    "print(sum_all_elements)\n",
    "\n",
    "print(\"Sum of each column:\")\n",
    "print(sum_each_column)\n",
    "\n",
    "print(\"Sum of each row:\")\n",
    "print(sum_each_row)"
   ]
  },
  {
   "cell_type": "markdown",
   "metadata": {
    "id": "4JSLT9ImAnKn"
   },
   "source": [
    "###### 12. Write a NumPy program to compute the inner product of two given vectors."
   ]
  },
  {
   "cell_type": "code",
   "execution_count": 13,
   "metadata": {
    "id": "cBGxcHxe_KEt"
   },
   "outputs": [
    {
     "name": "stdout",
     "output_type": "stream",
     "text": [
      "Original vectors:\n",
      "[4 5]\n",
      "[ 7 10]\n",
      "Inner product of said vectors:\n",
      "78\n"
     ]
    }
   ],
   "source": [
    "vector_1 = np.array([4, 5])\n",
    "vector_2 = np.array([7, 10])\n",
    "\n",
    "print(\"Original vectors:\")\n",
    "print(vector_1)\n",
    "print(vector_2)\n",
    "\n",
    "inner_product = np.dot(vector_1, vector_2)\n",
    "\n",
    "print(\"Inner product of said vectors:\")\n",
    "print(inner_product)"
   ]
  }
 ],
 "metadata": {
  "colab": {
   "collapsed_sections": [],
   "name": "Numpy_assignment_day_1.ipynb",
   "provenance": []
  },
  "kernelspec": {
   "display_name": "Python 3 (ipykernel)",
   "language": "python",
   "name": "python3"
  },
  "language_info": {
   "codemirror_mode": {
    "name": "ipython",
    "version": 3
   },
   "file_extension": ".py",
   "mimetype": "text/x-python",
   "name": "python",
   "nbconvert_exporter": "python",
   "pygments_lexer": "ipython3",
   "version": "3.11.5"
  }
 },
 "nbformat": 4,
 "nbformat_minor": 1
}
